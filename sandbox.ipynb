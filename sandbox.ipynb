{
 "cells": [
  {
   "cell_type": "code",
   "execution_count": 1,
   "metadata": {},
   "outputs": [
    {
     "name": "stderr",
     "output_type": "stream",
     "text": [
      "c:\\Users\\natet\\anaconda3\\envs\\cap_nb\\lib\\site-packages\\tqdm\\auto.py:21: TqdmWarning: IProgress not found. Please update jupyter and ipywidgets. See https://ipywidgets.readthedocs.io/en/stable/user_install.html\n",
      "  from .autonotebook import tqdm as notebook_tqdm\n"
     ]
    }
   ],
   "source": [
    "from source.core.engine import MoP\n",
    "import source.core.run_partition as run_p\n",
    "from os import environ\n",
    "from source.utils.dataset import *\n",
    "from source.utils.misc import *\n",
    "\n",
    "import matplotlib.pyplot as plt\n",
    "import matplotlib.image as mpimg\n",
    "\n",
    "import numpy as np\n",
    "\n",
    "dataset='cifar100'\n",
    "environ[\"config\"] = f\"config/{dataset}.yaml\""
   ]
  },
  {
   "cell_type": "code",
   "execution_count": 2,
   "metadata": {},
   "outputs": [
    {
     "name": "stdout",
     "output_type": "stream",
     "text": [
      "device :  \n",
      "model :  wrn16_8\n",
      "data_code :  cifar100\n",
      "num_classes :  100\n",
      "model_file :  test.pt\n",
      "epochs :  0\n",
      "batch_size :  128\n",
      "optimizer :  sgd\n",
      "lr_scheduler :  default\n",
      "learning_rate :  0.1\n",
      "seed :  1234\n",
      "sparsity_type :  kernel\n",
      "prune_ratio :  1\n",
      "admm :  True\n",
      "admm_epochs :  3\n",
      "rho :  0.0001\n",
      "multi_rho :  True\n",
      "retrain_bs :  128\n",
      "retrain_lr :  0.005\n",
      "retrain_ep :  50\n",
      "retrain_opt :  default\n",
      "xentropy_weight :  1.0\n",
      "warmup :  False\n",
      "warmup_lr :  0.01\n",
      "warmup_epochs :  10\n",
      "mix_up :  True\n",
      "alpha :  0.3\n",
      "smooth :  False\n",
      "smooth_eps :  0\n",
      "save_last_model_only :  False\n",
      "num_partition :  1\n",
      "layer_type :  regular\n",
      "bn_type :  masked\n",
      "par_first_layer :  False\n",
      "comm_outsize :  False\n",
      "lambda_comm :  0\n",
      "lambda_comp :  0\n",
      "distill_model :  \n",
      "distill_loss :  kl\n",
      "distill_temp :  30\n",
      "distill_alpha :  1\n",
      "{'device': 'cuda:0', 'model': 'wrn16_8', 'data_code': 'cifar100', 'num_classes': 100, 'model_file': 'test.pt', 'epochs': 0, 'batch_size': 128, 'optimizer': 'sgd', 'lr_scheduler': 'default', 'learning_rate': 0.1, 'seed': 1234, 'sparsity_type': 'kernel', 'prune_ratio': 1, 'admm': True, 'admm_epochs': 3, 'rho': 0.0001, 'multi_rho': True, 'retrain_bs': 128, 'retrain_lr': 0.005, 'retrain_ep': 50, 'retrain_opt': 'default', 'xentropy_weight': 1.0, 'warmup': False, 'warmup_lr': 0.01, 'warmup_epochs': 10, 'mix_up': True, 'alpha': 0.3, 'smooth': False, 'smooth_eps': 0, 'save_last_model_only': False, 'num_partition': '4', 'layer_type': 'regular', 'bn_type': 'masked', 'par_first_layer': False, 'comm_outsize': False, 'lambda_comm': 0, 'lambda_comp': 0, 'distill_model': '', 'distill_loss': 'kl', 'distill_temp': 30, 'distill_alpha': 1, 'load_model': 'cifar100-wrn28-kernel-npv1-pr0.pt'}\n",
      "Files already downloaded and verified\n",
      "Files already downloaded and verified\n",
      "======== MODEL INFO =========\n",
      "WideResNet(\n",
      "  (conv1): Conv2d(3, 16, kernel_size=(3, 3), stride=(1, 1), padding=(1, 1), bias=False)\n",
      "  (block1): NetworkBlock(\n",
      "    (layer): Sequential(\n",
      "      (0): BasicBlock(\n",
      "        (bn1): BatchNorm2d(16, eps=1e-05, momentum=0.1, affine=True, track_running_stats=True)\n",
      "        (relu1): ReLU(inplace=True)\n",
      "        (conv1): Conv2d(16, 128, kernel_size=(3, 3), stride=(1, 1), padding=(1, 1), bias=False)\n",
      "        (bn2): BatchNorm2d(128, eps=1e-05, momentum=0.1, affine=True, track_running_stats=True)\n",
      "        (relu2): ReLU(inplace=True)\n",
      "        (conv2): Conv2d(128, 128, kernel_size=(3, 3), stride=(1, 1), padding=(1, 1), bias=False)\n",
      "        (convShortcut): Conv2d(16, 128, kernel_size=(1, 1), stride=(1, 1), bias=False)\n",
      "      )\n",
      "      (1): BasicBlock(\n",
      "        (bn1): BatchNorm2d(128, eps=1e-05, momentum=0.1, affine=True, track_running_stats=True)\n",
      "        (relu1): ReLU(inplace=True)\n",
      "        (conv1): Conv2d(128, 128, kernel_size=(3, 3), stride=(1, 1), padding=(1, 1), bias=False)\n",
      "        (bn2): BatchNorm2d(128, eps=1e-05, momentum=0.1, affine=True, track_running_stats=True)\n",
      "        (relu2): ReLU(inplace=True)\n",
      "        (conv2): Conv2d(128, 128, kernel_size=(3, 3), stride=(1, 1), padding=(1, 1), bias=False)\n",
      "      )\n",
      "    )\n",
      "  )\n",
      "  (block2): NetworkBlock(\n",
      "    (layer): Sequential(\n",
      "      (0): BasicBlock(\n",
      "        (bn1): BatchNorm2d(128, eps=1e-05, momentum=0.1, affine=True, track_running_stats=True)\n",
      "        (relu1): ReLU(inplace=True)\n",
      "        (conv1): Conv2d(128, 256, kernel_size=(3, 3), stride=(2, 2), padding=(1, 1), bias=False)\n",
      "        (bn2): BatchNorm2d(256, eps=1e-05, momentum=0.1, affine=True, track_running_stats=True)\n",
      "        (relu2): ReLU(inplace=True)\n",
      "        (conv2): Conv2d(256, 256, kernel_size=(3, 3), stride=(1, 1), padding=(1, 1), bias=False)\n",
      "        (convShortcut): Conv2d(128, 256, kernel_size=(1, 1), stride=(2, 2), bias=False)\n",
      "      )\n",
      "      (1): BasicBlock(\n",
      "        (bn1): BatchNorm2d(256, eps=1e-05, momentum=0.1, affine=True, track_running_stats=True)\n",
      "        (relu1): ReLU(inplace=True)\n",
      "        (conv1): Conv2d(256, 256, kernel_size=(3, 3), stride=(1, 1), padding=(1, 1), bias=False)\n",
      "        (bn2): BatchNorm2d(256, eps=1e-05, momentum=0.1, affine=True, track_running_stats=True)\n",
      "        (relu2): ReLU(inplace=True)\n",
      "        (conv2): Conv2d(256, 256, kernel_size=(3, 3), stride=(1, 1), padding=(1, 1), bias=False)\n",
      "      )\n",
      "    )\n",
      "  )\n",
      "  (block3): NetworkBlock(\n",
      "    (layer): Sequential(\n",
      "      (0): BasicBlock(\n",
      "        (bn1): BatchNorm2d(256, eps=1e-05, momentum=0.1, affine=True, track_running_stats=True)\n",
      "        (relu1): ReLU(inplace=True)\n",
      "        (conv1): Conv2d(256, 512, kernel_size=(3, 3), stride=(2, 2), padding=(1, 1), bias=False)\n",
      "        (bn2): BatchNorm2d(512, eps=1e-05, momentum=0.1, affine=True, track_running_stats=True)\n",
      "        (relu2): ReLU(inplace=True)\n",
      "        (conv2): Conv2d(512, 512, kernel_size=(3, 3), stride=(1, 1), padding=(1, 1), bias=False)\n",
      "        (convShortcut): Conv2d(256, 512, kernel_size=(1, 1), stride=(2, 2), bias=False)\n",
      "      )\n",
      "      (1): BasicBlock(\n",
      "        (bn1): BatchNorm2d(512, eps=1e-05, momentum=0.1, affine=True, track_running_stats=True)\n",
      "        (relu1): ReLU(inplace=True)\n",
      "        (conv1): Conv2d(512, 512, kernel_size=(3, 3), stride=(1, 1), padding=(1, 1), bias=False)\n",
      "        (bn2): BatchNorm2d(512, eps=1e-05, momentum=0.1, affine=True, track_running_stats=True)\n",
      "        (relu2): ReLU(inplace=True)\n",
      "        (conv2): Conv2d(512, 512, kernel_size=(3, 3), stride=(1, 1), padding=(1, 1), bias=False)\n",
      "      )\n",
      "    )\n",
      "  )\n",
      "  (bn1): BatchNorm2d(512, eps=1e-05, momentum=0.1, affine=True, track_running_stats=True)\n",
      "  (relu): ReLU(inplace=True)\n",
      "  (fc): Linear(in_features=512, out_features=100, bias=True)\n",
      ")\n",
      "========================================\n",
      "TOTAL NUMBER OF PARAMETERS = 11007540\n",
      "----------------------------------------\n",
      "Inference time per data is 3.991604ms.\n",
      "conv1.weight 1024\n",
      "block1.layer.0.conv1.weight 1024\n",
      "block1.layer.0.conv2.weight 1024\n",
      "block1.layer.0.convShortcut.weight 1024\n",
      "block1.layer.1.conv1.weight 1024\n",
      "block1.layer.1.conv2.weight 1024\n",
      "block2.layer.0.conv1.weight 256\n",
      "block2.layer.0.conv2.weight 256\n",
      "block2.layer.0.convShortcut.weight 256\n",
      "block2.layer.1.conv1.weight 256\n",
      "block2.layer.1.conv2.weight 256\n",
      "block3.layer.0.conv1.weight 64\n",
      "block3.layer.0.conv2.weight 64\n",
      "block3.layer.0.convShortcut.weight 64\n",
      "block3.layer.1.conv1.weight 64\n",
      "block3.layer.1.conv2.weight 64\n",
      "Computational complexity:       6.20044288\n",
      "Number of parameters:           11.00754\n",
      "conv1.weight:   params:432,           params-intrap:108,         params-interp:324,           interp-k:36,    interp-k(select):36,   max-interp-k(select):1,     outsize:1024, total-interp-comm:9216.0, max-interp-comm:1024.0\n",
      "[1024.0, 1024.0, 1024.0, 0.0, 1024.0, 1024.0, 0.0, 1024.0, 1024.0, 0.0, 1024.0, 1024.0]\n",
      "block1.layer.0.conv1.weight:   params:18432,           params-intrap:4608,         params-interp:13824,           interp-k:1536,    interp-k(select):1536,   max-interp-k(select):4,     outsize:1024, total-interp-comm:49152.0, max-interp-comm:4096.0\n",
      "[4096.0, 4096.0, 4096.0, 4096.0, 4096.0, 4096.0, 4096.0, 4096.0, 4096.0, 4096.0, 4096.0, 4096.0]\n",
      "block1.layer.0.conv2.weight:   params:147456,           params-intrap:36864,         params-interp:110592,           interp-k:12288,    interp-k(select):12288,   max-interp-k(select):32,     outsize:1024, total-interp-comm:393216.0, max-interp-comm:32768.0\n",
      "[32768.0, 32768.0, 32768.0, 32768.0, 32768.0, 32768.0, 32768.0, 32768.0, 32768.0, 32768.0, 32768.0, 32768.0]\n",
      "block1.layer.0.convShortcut.weight:   params:2048,           params-intrap:512,         params-interp:1536,           interp-k:1536,    interp-k(select):1536,   max-interp-k(select):4,     outsize:1024, total-interp-comm:49152.0, max-interp-comm:4096.0\n",
      "[4096.0, 4096.0, 4096.0, 4096.0, 4096.0, 4096.0, 4096.0, 4096.0, 4096.0, 4096.0, 4096.0, 4096.0]\n",
      "block1.layer.1.conv1.weight:   params:147456,           params-intrap:36864,         params-interp:110592,           interp-k:12288,    interp-k(select):12288,   max-interp-k(select):32,     outsize:1024, total-interp-comm:393216.0, max-interp-comm:32768.0\n",
      "[32768.0, 32768.0, 32768.0, 32768.0, 32768.0, 32768.0, 32768.0, 32768.0, 32768.0, 32768.0, 32768.0, 32768.0]\n",
      "block1.layer.1.conv2.weight:   params:147456,           params-intrap:36864,         params-interp:110592,           interp-k:12288,    interp-k(select):12288,   max-interp-k(select):32,     outsize:1024, total-interp-comm:393216.0, max-interp-comm:32768.0\n",
      "[32768.0, 32768.0, 32768.0, 32768.0, 32768.0, 32768.0, 32768.0, 32768.0, 32768.0, 32768.0, 32768.0, 32768.0]\n",
      "block2.layer.0.conv1.weight:   params:294912,           params-intrap:73728,         params-interp:221184,           interp-k:24576,    interp-k(select):24576,   max-interp-k(select):32,     outsize:256, total-interp-comm:98304.0, max-interp-comm:8192.0\n",
      "[8192.0, 8192.0, 8192.0, 8192.0, 8192.0, 8192.0, 8192.0, 8192.0, 8192.0, 8192.0, 8192.0, 8192.0]\n",
      "block2.layer.0.conv2.weight:   params:589824,           params-intrap:147456,         params-interp:442368,           interp-k:49152,    interp-k(select):49152,   max-interp-k(select):64,     outsize:256, total-interp-comm:196608.0, max-interp-comm:16384.0\n",
      "[16384.0, 16384.0, 16384.0, 16384.0, 16384.0, 16384.0, 16384.0, 16384.0, 16384.0, 16384.0, 16384.0, 16384.0]\n",
      "block2.layer.0.convShortcut.weight:   params:32768,           params-intrap:8192,         params-interp:24576,           interp-k:24576,    interp-k(select):24576,   max-interp-k(select):32,     outsize:256, total-interp-comm:98304.0, max-interp-comm:8192.0\n",
      "[8192.0, 8192.0, 8192.0, 8192.0, 8192.0, 8192.0, 8192.0, 8192.0, 8192.0, 8192.0, 8192.0, 8192.0]\n",
      "block2.layer.1.conv1.weight:   params:589824,           params-intrap:147456,         params-interp:442368,           interp-k:49152,    interp-k(select):49152,   max-interp-k(select):64,     outsize:256, total-interp-comm:196608.0, max-interp-comm:16384.0\n",
      "[16384.0, 16384.0, 16384.0, 16384.0, 16384.0, 16384.0, 16384.0, 16384.0, 16384.0, 16384.0, 16384.0, 16384.0]\n",
      "block2.layer.1.conv2.weight:   params:589824,           params-intrap:147456,         params-interp:442368,           interp-k:49152,    interp-k(select):49152,   max-interp-k(select):64,     outsize:256, total-interp-comm:196608.0, max-interp-comm:16384.0\n",
      "[16384.0, 16384.0, 16384.0, 16384.0, 16384.0, 16384.0, 16384.0, 16384.0, 16384.0, 16384.0, 16384.0, 16384.0]\n",
      "block3.layer.0.conv1.weight:   params:1179648,           params-intrap:294912,         params-interp:884736,           interp-k:98304,    interp-k(select):98304,   max-interp-k(select):64,     outsize:64, total-interp-comm:49152.0, max-interp-comm:4096.0\n",
      "[4096.0, 4096.0, 4096.0, 4096.0, 4096.0, 4096.0, 4096.0, 4096.0, 4096.0, 4096.0, 4096.0, 4096.0]\n",
      "block3.layer.0.conv2.weight:   params:2359296,           params-intrap:589824,         params-interp:1769472,           interp-k:196608,    interp-k(select):196608,   max-interp-k(select):128,     outsize:64, total-interp-comm:98304.0, max-interp-comm:8192.0\n",
      "[8192.0, 8192.0, 8192.0, 8192.0, 8192.0, 8192.0, 8192.0, 8192.0, 8192.0, 8192.0, 8192.0, 8192.0]\n",
      "block3.layer.0.convShortcut.weight:   params:131072,           params-intrap:32768,         params-interp:98304,           interp-k:98304,    interp-k(select):98304,   max-interp-k(select):64,     outsize:64, total-interp-comm:49152.0, max-interp-comm:4096.0\n",
      "[4096.0, 4096.0, 4096.0, 4096.0, 4096.0, 4096.0, 4096.0, 4096.0, 4096.0, 4096.0, 4096.0, 4096.0]\n",
      "block3.layer.1.conv1.weight:   params:2359296,           params-intrap:589824,         params-interp:1769472,           interp-k:196608,    interp-k(select):196608,   max-interp-k(select):128,     outsize:64, total-interp-comm:98304.0, max-interp-comm:8192.0\n",
      "[8192.0, 8192.0, 8192.0, 8192.0, 8192.0, 8192.0, 8192.0, 8192.0, 8192.0, 8192.0, 8192.0, 8192.0]\n",
      "block3.layer.1.conv2.weight:   params:2359296,           params-intrap:589824,         params-interp:1769472,           interp-k:196608,    interp-k(select):196608,   max-interp-k(select):128,     outsize:64, total-interp-comm:98304.0, max-interp-comm:8192.0\n",
      "[8192.0, 8192.0, 8192.0, 8192.0, 8192.0, 8192.0, 8192.0, 8192.0, 8192.0, 8192.0, 8192.0, 8192.0]\n",
      "---------------------------------------------------------------------------\n",
      "total number of kernels:1364016, zero-kernels:0, kernel sparsity is: 0.0000\n",
      "total number of params:10949040, total_interp:8211780, total_interp_select:8211780, total_interpk:1023012, total_interpk_select:1023012\n",
      "total_comms:2466816.0, max-interp-comm:205824.0\n",
      "===========================================================================\n",
      "\n",
      "\n",
      "(16, 128) (128, 16)\n",
      "(16, 128) (128, 16)\n"
     ]
    }
   ],
   "source": [
    "configs = run_p.main()\n",
    "\n",
    "configs[\"device\"] = \"cuda:0\"\n",
    "configs['load_model'] = \"cifar100-wrn28-kernel-npv1-pr0.pt\"\n",
    "configs[\"num_partition\"] = '4'#\"config/resnet18-v2.yaml\"\n",
    "\n",
    "print(configs)\n",
    "mop = MoP(configs)"
   ]
  },
  {
   "cell_type": "code",
   "execution_count": 3,
   "metadata": {},
   "outputs": [
    {
     "data": {
      "text/plain": [
       "<generator object Module.named_parameters at 0x000002D02A818120>"
      ]
     },
     "execution_count": 3,
     "metadata": {},
     "output_type": "execute_result"
    }
   ],
   "source": [
    "mop.model\n",
    "mop.model.named_parameters()"
   ]
  },
  {
   "cell_type": "code",
   "execution_count": 4,
   "metadata": {},
   "outputs": [
    {
     "name": "stdout",
     "output_type": "stream",
     "text": [
      "Files already downloaded and verified\n",
      "Files already downloaded and verified\n",
      "Testing model \"cifar100-wrn28-kernel-npv1-pr0.pt\" on cifar100\n",
      "Epoch-[000]: Test loss: 3.41, acc: 24.81.\n"
     ]
    }
   ],
   "source": [
    "mop.train_loader, mop.test_loader = get_dataset_from_code(mop.configs['data_code'], mop.configs['batch_size'])\n",
    "\n",
    "\n",
    "nepoch = mop.configs['epochs']\n",
    "criterion, optimizer, scheduler = set_optimizer(mop.configs, mop.model, mop.train_loader, \\\n",
    "                                             mop.configs['optimizer'], mop.configs['learning_rate'], nepoch)\n",
    "\n",
    "print('Testing model \\\"'+ configs['load_model'] + '\\\" on ' + configs['data_code'] )\n",
    "\n",
    "acc = mop.test_model(mop.model, criterion)\n",
    "#print(mop.configs['data_code'])\n",
    "#mop.evalHelper.accuracy(mop.model, mop.test_loader)\n"
   ]
  },
  {
   "cell_type": "code",
   "execution_count": 5,
   "metadata": {},
   "outputs": [
    {
     "name": "stdout",
     "output_type": "stream",
     "text": [
      "Feature batch shape: torch.Size([128, 3, 32, 32])\n",
      "Labels batch shape: torch.Size([128])\n"
     ]
    }
   ],
   "source": [
    "train_features, train_labels = next(iter(mop.train_loader))\n",
    "print(f\"Feature batch shape: {train_features.size()}\")\n",
    "print(f\"Labels batch shape: {train_labels.size()}\")\n",
    "img = train_features[0].squeeze()\n",
    "label = train_labels[0]\n",
    "\n"
   ]
  },
  {
   "cell_type": "code",
   "execution_count": 6,
   "metadata": {},
   "outputs": [
    {
     "data": {
      "image/png": "[encoded data removed]",
      "text/plain": [
       "<Figure size 640x480 with 1 Axes>"
      ]
     },
     "metadata": {},
     "output_type": "display_data"
    },
    {
     "name": "stdout",
     "output_type": "stream",
     "text": [
      "Label: bed\n"
     ]
    }
   ],
   "source": [
    "max_val = max(img.reshape((img.numel(),))).item()\n",
    "min_val = min(img.reshape((img.numel(),))).item()\n",
    "img_scaled = (img - min_val)/(max_val - min_val)\n",
    "\n",
    "\n",
    "plt.imshow(img_scaled.permute(1,2,0)) # plt expects channels to be 3-rd\n",
    "plt.show()\n",
    "\n",
    "class_mapping = list(mop.train_loader.dataset.class_to_idx)\n",
    "print(f\"Label: {class_mapping[label.item()]}\")"
   ]
  },
  {
   "cell_type": "code",
   "execution_count": 7,
   "metadata": {},
   "outputs": [
    {
     "data": {
      "text/plain": [
       "{'apple': 0,\n",
       " 'aquarium_fish': 1,\n",
       " 'baby': 2,\n",
       " 'bear': 3,\n",
       " 'beaver': 4,\n",
       " 'bed': 5,\n",
       " 'bee': 6,\n",
       " 'beetle': 7,\n",
       " 'bicycle': 8,\n",
       " 'bottle': 9,\n",
       " 'bowl': 10,\n",
       " 'boy': 11,\n",
       " 'bridge': 12,\n",
       " 'bus': 13,\n",
       " 'butterfly': 14,\n",
       " 'camel': 15,\n",
       " 'can': 16,\n",
       " 'castle': 17,\n",
       " 'caterpillar': 18,\n",
       " 'cattle': 19,\n",
       " 'chair': 20,\n",
       " 'chimpanzee': 21,\n",
       " 'clock': 22,\n",
       " 'cloud': 23,\n",
       " 'cockroach': 24,\n",
       " 'couch': 25,\n",
       " 'crab': 26,\n",
       " 'crocodile': 27,\n",
       " 'cup': 28,\n",
       " 'dinosaur': 29,\n",
       " 'dolphin': 30,\n",
       " 'elephant': 31,\n",
       " 'flatfish': 32,\n",
       " 'forest': 33,\n",
       " 'fox': 34,\n",
       " 'girl': 35,\n",
       " 'hamster': 36,\n",
       " 'house': 37,\n",
       " 'kangaroo': 38,\n",
       " 'keyboard': 39,\n",
       " 'lamp': 40,\n",
       " 'lawn_mower': 41,\n",
       " 'leopard': 42,\n",
       " 'lion': 43,\n",
       " 'lizard': 44,\n",
       " 'lobster': 45,\n",
       " 'man': 46,\n",
       " 'maple_tree': 47,\n",
       " 'motorcycle': 48,\n",
       " 'mountain': 49,\n",
       " 'mouse': 50,\n",
       " 'mushroom': 51,\n",
       " 'oak_tree': 52,\n",
       " 'orange': 53,\n",
       " 'orchid': 54,\n",
       " 'otter': 55,\n",
       " 'palm_tree': 56,\n",
       " 'pear': 57,\n",
       " 'pickup_truck': 58,\n",
       " 'pine_tree': 59,\n",
       " 'plain': 60,\n",
       " 'plate': 61,\n",
       " 'poppy': 62,\n",
       " 'porcupine': 63,\n",
       " 'possum': 64,\n",
       " 'rabbit': 65,\n",
       " 'raccoon': 66,\n",
       " 'ray': 67,\n",
       " 'road': 68,\n",
       " 'rocket': 69,\n",
       " 'rose': 70,\n",
       " 'sea': 71,\n",
       " 'seal': 72,\n",
       " 'shark': 73,\n",
       " 'shrew': 74,\n",
       " 'skunk': 75,\n",
       " 'skyscraper': 76,\n",
       " 'snail': 77,\n",
       " 'snake': 78,\n",
       " 'spider': 79,\n",
       " 'squirrel': 80,\n",
       " 'streetcar': 81,\n",
       " 'sunflower': 82,\n",
       " 'sweet_pepper': 83,\n",
       " 'table': 84,\n",
       " 'tank': 85,\n",
       " 'telephone': 86,\n",
       " 'television': 87,\n",
       " 'tiger': 88,\n",
       " 'tractor': 89,\n",
       " 'train': 90,\n",
       " 'trout': 91,\n",
       " 'tulip': 92,\n",
       " 'turtle': 93,\n",
       " 'wardrobe': 94,\n",
       " 'whale': 95,\n",
       " 'willow_tree': 96,\n",
       " 'wolf': 97,\n",
       " 'woman': 98,\n",
       " 'worm': 99}"
      ]
     },
     "execution_count": 7,
     "metadata": {},
     "output_type": "execute_result"
    }
   ],
   "source": [
    "img.size()\n",
    "train_labels\n",
    "mop.train_loader.dataset.class_to_idx\n",
    "\n"
   ]
  },
  {
   "cell_type": "code",
   "execution_count": 8,
   "metadata": {},
   "outputs": [
    {
     "name": "stdout",
     "output_type": "stream",
     "text": [
      "Label: bed\n"
     ]
    }
   ],
   "source": [
    "print(f\"Label: {class_mapping[label.item()]}\")"
   ]
  },
  {
   "cell_type": "code",
   "execution_count": 9,
   "metadata": {},
   "outputs": [
    {
     "data": {
      "text/plain": [
       "'beetle'"
      ]
     },
     "execution_count": 9,
     "metadata": {},
     "output_type": "execute_result"
    }
   ],
   "source": [
    "class_mapping[7]"
   ]
  },
  {
   "cell_type": "code",
   "execution_count": 10,
   "metadata": {},
   "outputs": [
    {
     "data": {
      "image/png": "[encoded data removed]",
      "text/plain": [
       "<Figure size 640x480 with 1 Axes>"
      ]
     },
     "metadata": {},
     "output_type": "display_data"
    },
    {
     "name": "stdout",
     "output_type": "stream",
     "text": [
      "tensor(2.0254)\n",
      "tensor(-1.8975)\n"
     ]
    }
   ],
   "source": [
    "''' \n",
    "it looks like the element values are not as imshow expected i.e. either [0, 1] or [0, 255]\n",
    "look at the histogram of the image\n",
    "'''\n",
    "\n",
    "_ = plt.hist(img.reshape((img.numel(),)), bins='auto')  # arguments are passed to np.histogram\n",
    "\n",
    "plt.title(\"Histogram with 'auto' bins\")\n",
    "#Text(0.5, 1.0, \"Histogram with 'auto' bins\")\n",
    "\n",
    "plt.show()\n",
    "\n",
    "print(max(img.reshape((img.numel(),))))\n",
    "print(min(img.reshape((img.numel(),))))"
   ]
  },
  {
   "cell_type": "code",
   "execution_count": 11,
   "metadata": {},
   "outputs": [
    {
     "data": {
      "text/plain": [
       "3072"
      ]
     },
     "execution_count": 11,
     "metadata": {},
     "output_type": "execute_result"
    }
   ],
   "source": [
    "img.numel()"
   ]
  },
  {
   "cell_type": "code",
   "execution_count": null,
   "metadata": {},
   "outputs": [],
   "source": []
  }
 ],
 "metadata": {
  "kernelspec": {
   "display_name": "cap1",
   "language": "python",
   "name": "python3"
  },
  "language_info": {
   "codemirror_mode": {
    "name": "ipython",
    "version": 3
   },
   "file_extension": ".py",
   "mimetype": "text/x-python",
   "name": "python",
   "nbconvert_exporter": "python",
   "pygments_lexer": "ipython3",
   "version": "3.10.14"
  }
 },
 "nbformat": 4,
 "nbformat_minor": 2
}
