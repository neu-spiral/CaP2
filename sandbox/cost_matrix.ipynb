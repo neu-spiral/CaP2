{
 "cells": [
  {
   "cell_type": "code",
   "execution_count": 1,
   "id": "3a78e1a0-e432-4006-8f18-022c7f087436",
   "metadata": {},
   "outputs": [
    {
     "name": "stdout",
     "output_type": "stream",
     "text": [
      "Moving from /Users/mqsirera/RESEARCH/CaP2/sandbox to /Users/mqsirera/RESEARCH/CaP2\n"
     ]
    }
   ],
   "source": [
    "# Packages import\n",
    "import os\n",
    "current_dir = os.getcwd()\n",
    "os.chdir('..')\n",
    "print(f'Moving from {current_dir} to {os.getcwd()}')\n",
    "import numpy as np\n",
    "import yaml\n",
    "import time\n",
    "from source.utils.masks import *\n",
    "from source.utils.misc import *"
   ]
  },
  {
   "cell_type": "code",
   "execution_count": 2,
   "id": "9ec996f4-ea6c-4d04-88d7-3d6a6b7c06f8",
   "metadata": {},
   "outputs": [],
   "source": [
    "# Files to load\n",
    "config_path = './config/cifar100.yaml' \n",
    "partition_path = './config/resnet101-np4.yaml' "
   ]
  },
  {
   "cell_type": "code",
   "execution_count": 3,
   "id": "913a91f3-eee6-4e5c-a8ae-e5b4f2f6b66b",
   "metadata": {},
   "outputs": [],
   "source": [
    "def load_yaml(filepath):\n",
    "    with open(filepath, 'r') as stream:\n",
    "        try:\n",
    "            data = yaml.load(stream, yaml.FullLoader)\n",
    "        except yaml.YAMLError as exc:\n",
    "            print(exc)\n",
    "    return data"
   ]
  },
  {
   "cell_type": "code",
   "execution_count": 4,
   "id": "1b179920-d3c9-4e85-abab-06f8b2879201",
   "metadata": {},
   "outputs": [],
   "source": [
    "# Define config and partition files\n",
    "configs = load_yaml(config_path)\n",
    "configs['partition_path'] = partition_path\n",
    "model = get_model_from_code(configs)"
   ]
  },
  {
   "cell_type": "code",
   "execution_count": 5,
   "id": "142dd2eb-e91a-4de8-a33e-92d4319ce643",
   "metadata": {
    "collapsed": true,
    "jupyter": {
     "outputs_hidden": true
    },
    "tags": []
   },
   "outputs": [
    {
     "name": "stdout",
     "output_type": "stream",
     "text": [
      "num_partition: {'conv1.weight': 4, 'inputs': 4, 'layer1.0.conv1.weight': 4, 'layer1.0.conv2.weight': 4, 'layer1.1.conv1.weight': 4, 'layer1.1.conv2.weight': 4, 'layer1.2.conv1.weight': 4, 'layer1.2.conv2.weight': 4, 'layer2.0.conv1.weight': 4, 'layer2.0.conv2.weight': 4, 'layer2.0.shortcut.0.weight': 4, 'layer2.1.conv1.weight': 4, 'layer2.1.conv2.weight': 4, 'layer2.2.conv1.weight': 4, 'layer2.2.conv2.weight': 4, 'layer2.3.conv1.weight': 4, 'layer2.3.conv2.weight': 4, 'layer3.0.conv1.weight': 4, 'layer3.0.conv2.weight': 4, 'layer3.0.shortcut.0.weight': 4, 'layer3.1.conv1.weight': 4, 'layer3.1.conv2.weight': 4, 'layer3.10.conv1.weight': 4, 'layer3.10.conv2.weight': 4, 'layer3.11.conv1.weight': 4, 'layer3.11.conv2.weight': 4, 'layer3.12.conv1.weight': 4, 'layer3.12.conv2.weight': 4, 'layer3.13.conv1.weight': 4, 'layer3.13.conv2.weight': 4, 'layer3.14.conv1.weight': 4, 'layer3.14.conv2.weight': 4, 'layer3.15.conv1.weight': 4, 'layer3.15.conv2.weight': 4, 'layer3.16.conv1.weight': 4, 'layer3.16.conv2.weight': 4, 'layer3.17.conv1.weight': 4, 'layer3.17.conv2.weight': 4, 'layer3.18.conv1.weight': 4, 'layer3.18.conv2.weight': 4, 'layer3.19.conv1.weight': 4, 'layer3.19.conv2.weight': 4, 'layer3.2.conv1.weight': 4, 'layer3.2.conv2.weight': 4, 'layer3.20.conv1.weight': 4, 'layer3.20.conv2.weight': 4, 'layer3.21.conv1.weight': 4, 'layer3.21.conv2.weight': 4, 'layer3.22.conv1.weight': 4, 'layer3.22.conv2.weight': 4, 'layer3.3.conv1.weight': 4, 'layer3.3.conv2.weight': 4, 'layer3.4.conv1.weight': 4, 'layer3.4.conv2.weight': 4, 'layer3.5.conv1.weight': 4, 'layer3.5.conv2.weight': 4, 'layer3.6.conv1.weight': 4, 'layer3.6.conv2.weight': 4, 'layer3.7.conv1.weight': 4, 'layer3.7.conv2.weight': 4, 'layer3.8.conv1.weight': 4, 'layer3.8.conv2.weight': 4, 'layer3.9.conv1.weight': 4, 'layer3.9.conv2.weight': 4, 'layer4.0.conv1.weight': 4, 'layer4.0.conv2.weight': 4, 'layer4.0.shortcut.0.weight': 4, 'layer4.1.conv1.weight': 4, 'layer4.1.conv2.weight': 4, 'layer4.2.conv1.weight': 4, 'layer4.2.conv2.weight': 4}\n",
      "ratio_partition: {'conv1.weight': [1, 1, 1, 1], 'inputs': [1, 1, 1, 1], 'layer1.0.conv1.weight': [1, 1, 1, 1], 'layer1.0.conv2.weight': [1, 1, 1, 1], 'layer1.1.conv1.weight': [1, 1, 1, 1], 'layer1.1.conv2.weight': [1, 1, 1, 1], 'layer1.2.conv1.weight': [1, 1, 1, 1], 'layer1.2.conv2.weight': [1, 1, 1, 1], 'layer2.0.conv1.weight': [1, 1, 1, 1], 'layer2.0.conv2.weight': [1, 1, 1, 1], 'layer2.0.shortcut.0.weight': [1, 1, 1, 1], 'layer2.1.conv1.weight': [1, 1, 1, 1], 'layer2.1.conv2.weight': [1, 1, 1, 1], 'layer2.2.conv1.weight': [1, 1, 1, 1], 'layer2.2.conv2.weight': [1, 1, 1, 1], 'layer2.3.conv1.weight': [1, 1, 1, 1], 'layer2.3.conv2.weight': [1, 1, 1, 1], 'layer3.0.conv1.weight': [1, 1, 1, 1], 'layer3.0.conv2.weight': [1, 1, 1, 1], 'layer3.0.shortcut.0.weight': [1, 1, 1, 1], 'layer3.1.conv1.weight': [1, 1, 1, 1], 'layer3.1.conv2.weight': [1, 1, 1, 1], 'layer3.10.conv1.weight': [1, 1, 1, 1], 'layer3.10.conv2.weight': [1, 1, 1, 1], 'layer3.11.conv1.weight': [1, 1, 1, 1], 'layer3.11.conv2.weight': [1, 1, 1, 1], 'layer3.12.conv1.weight': [1, 1, 1, 1], 'layer3.12.conv2.weight': [1, 1, 1, 1], 'layer3.13.conv1.weight': [1, 1, 1, 1], 'layer3.13.conv2.weight': [1, 1, 1, 1], 'layer3.14.conv1.weight': [1, 1, 1, 1], 'layer3.14.conv2.weight': [1, 1, 1, 1], 'layer3.15.conv1.weight': [1, 1, 1, 1], 'layer3.15.conv2.weight': [1, 1, 1, 1], 'layer3.16.conv1.weight': [1, 1, 1, 1], 'layer3.16.conv2.weight': [1, 1, 1, 1], 'layer3.17.conv1.weight': [1, 1, 1, 1], 'layer3.17.conv2.weight': [1, 1, 1, 1], 'layer3.18.conv1.weight': [1, 1, 1, 1], 'layer3.18.conv2.weight': [1, 1, 1, 1], 'layer3.19.conv1.weight': [1, 1, 1, 1], 'layer3.19.conv2.weight': [1, 1, 1, 1], 'layer3.2.conv1.weight': [1, 1, 1, 1], 'layer3.2.conv2.weight': [1, 1, 1, 1], 'layer3.20.conv1.weight': [1, 1, 1, 1], 'layer3.20.conv2.weight': [1, 1, 1, 1], 'layer3.21.conv1.weight': [1, 1, 1, 1], 'layer3.21.conv2.weight': [1, 1, 1, 1], 'layer3.22.conv1.weight': [1, 1, 1, 1], 'layer3.22.conv2.weight': [1, 1, 1, 1], 'layer3.3.conv1.weight': [1, 1, 1, 1], 'layer3.3.conv2.weight': [1, 1, 1, 1], 'layer3.4.conv1.weight': [1, 1, 1, 1], 'layer3.4.conv2.weight': [1, 1, 1, 1], 'layer3.5.conv1.weight': [1, 1, 1, 1], 'layer3.5.conv2.weight': [1, 1, 1, 1], 'layer3.6.conv1.weight': [1, 1, 1, 1], 'layer3.6.conv2.weight': [1, 1, 1, 1], 'layer3.7.conv1.weight': [1, 1, 1, 1], 'layer3.7.conv2.weight': [1, 1, 1, 1], 'layer3.8.conv1.weight': [1, 1, 1, 1], 'layer3.8.conv2.weight': [1, 1, 1, 1], 'layer3.9.conv1.weight': [1, 1, 1, 1], 'layer3.9.conv2.weight': [1, 1, 1, 1], 'layer4.0.conv1.weight': [1, 1, 1, 1], 'layer4.0.conv2.weight': [1, 1, 1, 1], 'layer4.0.shortcut.0.weight': [1, 1, 1, 1], 'layer4.1.conv1.weight': [1, 1, 1, 1], 'layer4.1.conv2.weight': [1, 1, 1, 1], 'layer4.2.conv1.weight': [1, 1, 1, 1], 'layer4.2.conv2.weight': [1, 1, 1, 1]}\n",
      "map_partition: {'conv1.weight': [[0, 1, 1, 1], [1, 0, 1, 1], [1, 1, 0, 1], [1, 1, 1, 0]], 'inputs': [[0, 1, 1, 1], [1, 0, 1, 1], [1, 1, 0, 1], [1, 1, 1, 0]], 'layer1.0.conv1.weight': [[0, 1, 1, 1], [1, 0, 1, 1], [1, 1, 0, 1], [1, 1, 1, 0]], 'layer1.0.conv2.weight': [[0, 1, 1, 1], [1, 0, 1, 1], [1, 1, 0, 1], [1, 1, 1, 0]], 'layer1.1.conv1.weight': [[0, 1, 1, 1], [1, 0, 1, 1], [1, 1, 0, 1], [1, 1, 1, 0]], 'layer1.1.conv2.weight': [[0, 1, 1, 1], [1, 0, 1, 1], [1, 1, 0, 1], [1, 1, 1, 0]], 'layer1.2.conv1.weight': [[0, 1, 1, 1], [1, 0, 1, 1], [1, 1, 0, 1], [1, 1, 1, 0]], 'layer1.2.conv2.weight': [[0, 1, 1, 1], [1, 0, 1, 1], [1, 1, 0, 1], [1, 1, 1, 0]], 'layer2.0.conv1.weight': [[0, 1, 1, 1], [1, 0, 1, 1], [1, 1, 0, 1], [1, 1, 1, 0]], 'layer2.0.conv2.weight': [[0, 1, 1, 1], [1, 0, 1, 1], [1, 1, 0, 1], [1, 1, 1, 0]], 'layer2.0.shortcut.0.weight': [[0, 1, 1, 1], [1, 0, 1, 1], [1, 1, 0, 1], [1, 1, 1, 0]], 'layer2.1.conv1.weight': [[0, 1, 1, 1], [1, 0, 1, 1], [1, 1, 0, 1], [1, 1, 1, 0]], 'layer2.1.conv2.weight': [[0, 1, 1, 1], [1, 0, 1, 1], [1, 1, 0, 1], [1, 1, 1, 0]], 'layer2.2.conv1.weight': [[0, 1, 1, 1], [1, 0, 1, 1], [1, 1, 0, 1], [1, 1, 1, 0]], 'layer2.2.conv2.weight': [[0, 1, 1, 1], [1, 0, 1, 1], [1, 1, 0, 1], [1, 1, 1, 0]], 'layer2.3.conv1.weight': [[0, 1, 1, 1], [1, 0, 1, 1], [1, 1, 0, 1], [1, 1, 1, 0]], 'layer2.3.conv2.weight': [[0, 1, 1, 1], [1, 0, 1, 1], [1, 1, 0, 1], [1, 1, 1, 0]], 'layer3.0.conv1.weight': [[0, 1, 1, 1], [1, 0, 1, 1], [1, 1, 0, 1], [1, 1, 1, 0]], 'layer3.0.conv2.weight': [[0, 1, 1, 1], [1, 0, 1, 1], [1, 1, 0, 1], [1, 1, 1, 0]], 'layer3.0.shortcut.0.weight': [[0, 1, 1, 1], [1, 0, 1, 1], [1, 1, 0, 1], [1, 1, 1, 0]], 'layer3.1.conv1.weight': [[0, 1, 1, 1], [1, 0, 1, 1], [1, 1, 0, 1], [1, 1, 1, 0]], 'layer3.1.conv2.weight': [[0, 1, 1, 1], [1, 0, 1, 1], [1, 1, 0, 1], [1, 1, 1, 0]], 'layer3.10.conv1.weight': [[0, 1, 1, 1], [1, 0, 1, 1], [1, 1, 0, 1], [1, 1, 1, 0]], 'layer3.10.conv2.weight': [[0, 1, 1, 1], [1, 0, 1, 1], [1, 1, 0, 1], [1, 1, 1, 0]], 'layer3.11.conv1.weight': [[0, 1, 1, 1], [1, 0, 1, 1], [1, 1, 0, 1], [1, 1, 1, 0]], 'layer3.11.conv2.weight': [[0, 1, 1, 1], [1, 0, 1, 1], [1, 1, 0, 1], [1, 1, 1, 0]], 'layer3.12.conv1.weight': [[0, 1, 1, 1], [1, 0, 1, 1], [1, 1, 0, 1], [1, 1, 1, 0]], 'layer3.12.conv2.weight': [[0, 1, 1, 1], [1, 0, 1, 1], [1, 1, 0, 1], [1, 1, 1, 0]], 'layer3.13.conv1.weight': [[0, 1, 1, 1], [1, 0, 1, 1], [1, 1, 0, 1], [1, 1, 1, 0]], 'layer3.13.conv2.weight': [[0, 1, 1, 1], [1, 0, 1, 1], [1, 1, 0, 1], [1, 1, 1, 0]], 'layer3.14.conv1.weight': [[0, 1, 1, 1], [1, 0, 1, 1], [1, 1, 0, 1], [1, 1, 1, 0]], 'layer3.14.conv2.weight': [[0, 1, 1, 1], [1, 0, 1, 1], [1, 1, 0, 1], [1, 1, 1, 0]], 'layer3.15.conv1.weight': [[0, 1, 1, 1], [1, 0, 1, 1], [1, 1, 0, 1], [1, 1, 1, 0]], 'layer3.15.conv2.weight': [[0, 1, 1, 1], [1, 0, 1, 1], [1, 1, 0, 1], [1, 1, 1, 0]], 'layer3.16.conv1.weight': [[0, 1, 1, 1], [1, 0, 1, 1], [1, 1, 0, 1], [1, 1, 1, 0]], 'layer3.16.conv2.weight': [[0, 1, 1, 1], [1, 0, 1, 1], [1, 1, 0, 1], [1, 1, 1, 0]], 'layer3.17.conv1.weight': [[0, 1, 1, 1], [1, 0, 1, 1], [1, 1, 0, 1], [1, 1, 1, 0]], 'layer3.17.conv2.weight': [[0, 1, 1, 1], [1, 0, 1, 1], [1, 1, 0, 1], [1, 1, 1, 0]], 'layer3.18.conv1.weight': [[0, 1, 1, 1], [1, 0, 1, 1], [1, 1, 0, 1], [1, 1, 1, 0]], 'layer3.18.conv2.weight': [[0, 1, 1, 1], [1, 0, 1, 1], [1, 1, 0, 1], [1, 1, 1, 0]], 'layer3.19.conv1.weight': [[0, 1, 1, 1], [1, 0, 1, 1], [1, 1, 0, 1], [1, 1, 1, 0]], 'layer3.19.conv2.weight': [[0, 1, 1, 1], [1, 0, 1, 1], [1, 1, 0, 1], [1, 1, 1, 0]], 'layer3.2.conv1.weight': [[0, 1, 1, 1], [1, 0, 1, 1], [1, 1, 0, 1], [1, 1, 1, 0]], 'layer3.2.conv2.weight': [[0, 1, 1, 1], [1, 0, 1, 1], [1, 1, 0, 1], [1, 1, 1, 0]], 'layer3.20.conv1.weight': [[0, 1, 1, 1], [1, 0, 1, 1], [1, 1, 0, 1], [1, 1, 1, 0]], 'layer3.20.conv2.weight': [[0, 1, 1, 1], [1, 0, 1, 1], [1, 1, 0, 1], [1, 1, 1, 0]], 'layer3.21.conv1.weight': [[0, 1, 1, 1], [1, 0, 1, 1], [1, 1, 0, 1], [1, 1, 1, 0]], 'layer3.21.conv2.weight': [[0, 1, 1, 1], [1, 0, 1, 1], [1, 1, 0, 1], [1, 1, 1, 0]], 'layer3.22.conv1.weight': [[0, 1, 1, 1], [1, 0, 1, 1], [1, 1, 0, 1], [1, 1, 1, 0]], 'layer3.22.conv2.weight': [[0, 1, 1, 1], [1, 0, 1, 1], [1, 1, 0, 1], [1, 1, 1, 0]], 'layer3.3.conv1.weight': [[0, 1, 1, 1], [1, 0, 1, 1], [1, 1, 0, 1], [1, 1, 1, 0]], 'layer3.3.conv2.weight': [[0, 1, 1, 1], [1, 0, 1, 1], [1, 1, 0, 1], [1, 1, 1, 0]], 'layer3.4.conv1.weight': [[0, 1, 1, 1], [1, 0, 1, 1], [1, 1, 0, 1], [1, 1, 1, 0]], 'layer3.4.conv2.weight': [[0, 1, 1, 1], [1, 0, 1, 1], [1, 1, 0, 1], [1, 1, 1, 0]], 'layer3.5.conv1.weight': [[0, 1, 1, 1], [1, 0, 1, 1], [1, 1, 0, 1], [1, 1, 1, 0]], 'layer3.5.conv2.weight': [[0, 1, 1, 1], [1, 0, 1, 1], [1, 1, 0, 1], [1, 1, 1, 0]], 'layer3.6.conv1.weight': [[0, 1, 1, 1], [1, 0, 1, 1], [1, 1, 0, 1], [1, 1, 1, 0]], 'layer3.6.conv2.weight': [[0, 1, 1, 1], [1, 0, 1, 1], [1, 1, 0, 1], [1, 1, 1, 0]], 'layer3.7.conv1.weight': [[0, 1, 1, 1], [1, 0, 1, 1], [1, 1, 0, 1], [1, 1, 1, 0]], 'layer3.7.conv2.weight': [[0, 1, 1, 1], [1, 0, 1, 1], [1, 1, 0, 1], [1, 1, 1, 0]], 'layer3.8.conv1.weight': [[0, 1, 1, 1], [1, 0, 1, 1], [1, 1, 0, 1], [1, 1, 1, 0]], 'layer3.8.conv2.weight': [[0, 1, 1, 1], [1, 0, 1, 1], [1, 1, 0, 1], [1, 1, 1, 0]], 'layer3.9.conv1.weight': [[0, 1, 1, 1], [1, 0, 1, 1], [1, 1, 0, 1], [1, 1, 1, 0]], 'layer3.9.conv2.weight': [[0, 1, 1, 1], [1, 0, 1, 1], [1, 1, 0, 1], [1, 1, 1, 0]], 'layer4.0.conv1.weight': [[0, 1, 1, 1], [1, 0, 1, 1], [1, 1, 0, 1], [1, 1, 1, 0]], 'layer4.0.conv2.weight': [[0, 1, 1, 1], [1, 0, 1, 1], [1, 1, 0, 1], [1, 1, 1, 0]], 'layer4.0.shortcut.0.weight': [[0, 1, 1, 1], [1, 0, 1, 1], [1, 1, 0, 1], [1, 1, 1, 0]], 'layer4.1.conv1.weight': [[0, 1, 1, 1], [1, 0, 1, 1], [1, 1, 0, 1], [1, 1, 1, 0]], 'layer4.1.conv2.weight': [[0, 1, 1, 1], [1, 0, 1, 1], [1, 1, 0, 1], [1, 1, 1, 0]], 'layer4.2.conv1.weight': [[0, 1, 1, 1], [1, 0, 1, 1], [1, 1, 0, 1], [1, 1, 1, 0]], 'layer4.2.conv2.weight': [[0, 1, 1, 1], [1, 0, 1, 1], [1, 1, 0, 1], [1, 1, 1, 0]]}\n",
      "bn_partition: [4, 4, 4, 4, 4, 4, 4, 4, 4]\n"
     ]
    }
   ],
   "source": [
    "configs = partition_generator(configs, model)"
   ]
  },
  {
   "cell_type": "code",
   "execution_count": 6,
   "id": "b149a119-6156-489f-aa10-f00d2200d91e",
   "metadata": {},
   "outputs": [],
   "source": [
    "configs['comm_costs'] = set_communication_cost(model, configs['partition'],)"
   ]
  },
  {
   "cell_type": "code",
   "execution_count": 7,
   "id": "8687c5a0-8f64-4d01-94a4-dd6b54a351bc",
   "metadata": {},
   "outputs": [],
   "source": [
    "def compute_cost_matrix(layer_name, layer_weights, partition):\n",
    "    \"\"\"\n",
    "    Computes the cost of processing an output neuron/channel at each partition.\n",
    "\n",
    "    Args:\n",
    "        layer_name (str): The name of the layer.\n",
    "        layer_weights (torch.Tensor): The weight tensor for the layer.\n",
    "                                      - For Conv2D: (out_channels, in_channels, kernel_height, kernel_width)\n",
    "                                      - For Linear: (out_features, in_features)\n",
    "        partition (dict): The partition information for the layer, including:\n",
    "                          - 'num': Number of partitions\n",
    "                          - 'filter_id': List of filter IDs for each partition\n",
    "                          - 'channel_id': List of input channel IDs for each partition\n",
    "                          - 'maps': Communication cost map between partitions\n",
    "\n",
    "    Returns:\n",
    "        np.ndarray: A cost matrix of shape (num_neurons, num_partitions), where:\n",
    "                    - cost_matrix[i, j] = cost of computing output neuron `i` at partition `j`.\n",
    "    \"\"\"\n",
    "    if layer_name not in partition:\n",
    "        raise ValueError(f\"Layer {layer_name} is not in the partition dictionary.\")\n",
    "\n",
    "    # Extract partition details\n",
    "    num_partitions = partition[layer_name]['num']\n",
    "    filter_ids = partition[layer_name]['filter_id']  # Output filters/channels per partition\n",
    "    channel_ids = partition[layer_name]['channel_id']  # Input channels per partition\n",
    "    maps = partition[layer_name]['maps']  # Communication cost between partitions\n",
    "\n",
    "    # Get weight details\n",
    "    weight_np = layer_weights.cpu().detach().numpy()  # Convert weights to NumPy\n",
    "    shape = weight_np.shape\n",
    "\n",
    "    # Initialize cost matrix\n",
    "    num_neurons = shape[0]  # Number of output neurons\n",
    "    cost_matrix = np.zeros((num_neurons, num_partitions))\n",
    "\n",
    "    # Check if the layer is convolutional or fully connected\n",
    "    is_convolutional = len(shape) == 4  # (out_channels, in_channels, kernel_height, kernel_width)\n",
    "\n",
    "    # Iterate over output neurons and partitions\n",
    "    for i in range(num_neurons):  # For each output neuron (or filter)\n",
    "        for j in range(num_partitions):  # For each partition\n",
    "            # Calculate cost for input channels from other partitions\n",
    "            for k in range(num_partitions):  # Input channels from partition k\n",
    "                if k != j:\n",
    "                    input_indices = channel_ids[k]  # Input channels for partition k\n",
    "\n",
    "                    if is_convolutional:\n",
    "                        # For convolutional layers, check if all kernel elements are zero\n",
    "                        active_weights = weight_np[i, input_indices, :, :]  # Weights for filter `i` and input channels\n",
    "                        all_zero = np.all(active_weights == 0, axis=(1, 2))  # Check if all kernel elements are zero\n",
    "                        num_active = np.sum(~all_zero)  # Count active input channels\n",
    "                    else:\n",
    "                        # For fully connected layers, check directly\n",
    "                        active_weights = weight_np[i, input_indices]  # Weights for input neurons\n",
    "                        all_zero = active_weights == 0  # Check if weights are zero\n",
    "                        num_active = np.sum(~all_zero)  # Count active input neurons\n",
    "\n",
    "                    if num_active > 0:\n",
    "                        # Add the scaled cost based on the number of active channels/filters\n",
    "                        cost_matrix[i, j] += (maps[j][k] * num_active)\n",
    "\n",
    "    return cost_matrix"
   ]
  },
  {
   "cell_type": "code",
   "execution_count": 8,
   "id": "8e6b6466-3a37-490d-8fbb-b1c426d6b918",
   "metadata": {
    "tags": []
   },
   "outputs": [],
   "source": [
    "# Partition information\n",
    "partition = {\n",
    "    'conv1.weight': {\n",
    "        'num': 3,  # 3 partitions\n",
    "        'filter_id': [np.array([0, 1]), np.array([2, 3]), np.array([4, 5])],  # Filters per partition\n",
    "        'channel_id': [np.array([0, 1]), np.array([2]), np.array([3])],  # Input channels per partition\n",
    "        'maps': [[0, 1, 2], [1, 0, 1], [2, 1, 0]]  # Communication cost maps\n",
    "    }\n",
    "}\n",
    "\n",
    "# Weights for conv1.weight layer (4D: Conv2D)\n",
    "weights = torch.tensor([\n",
    "    [[[1, 0], [0, 0]], [[0, 0], [0, 0]], [[0, 0], [0, 0]], [[0, 0], [0, 0]]],  # Filter 0\n",
    "    [[[0, 0], [0, 0]], [[1, 0], [0, 0]], [[0, 0], [1, 0]], [[0, 0], [0, 1]]],  # Filter 1\n",
    "    [[[1, 1], [1, 0]], [[0, 0], [0, 0]], [[1, 0], [0, 1]], [[0, 0], [0, 1]]],  # Filter 2\n",
    "    [[[0, 0], [1, 0]], [[1, 0], [0, 0]], [[0, 1], [0, 0]], [[0, 0], [0, 0]]],  # Filter 3\n",
    "    [[[0, 1], [0, 0]], [[0, 0], [1, 1]], [[1, 0], [0, 0]], [[0, 0], [0, 0]]],  # Filter 4\n",
    "    [[[1, 0], [0, 0]], [[0, 1], [1, 1]], [[0, 0], [0, 0]], [[0, 0], [1, 0]]]   # Filter 5\n",
    "])\n",
    "\n"
   ]
  },
  {
   "cell_type": "code",
   "execution_count": 9,
   "id": "37dab063-db50-4efb-916a-179e3de61877",
   "metadata": {},
   "outputs": [
    {
     "name": "stdout",
     "output_type": "stream",
     "text": [
      "[[0. 1. 2.]\n",
      " [3. 2. 3.]\n",
      " [3. 2. 3.]\n",
      " [1. 2. 5.]\n",
      " [1. 2. 5.]\n",
      " [2. 3. 4.]]\n"
     ]
    }
   ],
   "source": [
    "cost_matrix = compute_cost_matrix('conv1.weight', weights, partition)\n",
    "print(cost_matrix)\n"
   ]
  },
  {
   "cell_type": "code",
   "execution_count": 15,
   "id": "3260f2ac-6d2f-4f4b-a610-b65d4d99d872",
   "metadata": {},
   "outputs": [
    {
     "name": "stdout",
     "output_type": "stream",
     "text": [
      "Start time: 1732648294.427691 s\n",
      "Layer conv1.weight processed in: 0.020582914352416992 s\n",
      "C shape: 64, 4\n",
      "Layer layer1.0.conv1.weight processed in: 0.01493525505065918 s\n",
      "C shape: 64, 4\n",
      "Layer layer1.0.conv2.weight processed in: 0.011151790618896484 s\n",
      "C shape: 64, 4\n",
      "Layer layer1.1.conv1.weight processed in: 0.009544134140014648 s\n",
      "C shape: 64, 4\n",
      "Layer layer1.1.conv2.weight processed in: 0.008366107940673828 s\n",
      "C shape: 64, 4\n",
      "Layer layer1.2.conv1.weight processed in: 0.0076978206634521484 s\n",
      "C shape: 64, 4\n",
      "Layer layer1.2.conv2.weight processed in: 0.00710606575012207 s\n",
      "C shape: 64, 4\n",
      "Layer layer2.0.conv1.weight processed in: 0.01325225830078125 s\n",
      "C shape: 128, 4\n",
      "Layer layer2.0.conv2.weight processed in: 0.014045000076293945 s\n",
      "C shape: 128, 4\n",
      "Layer layer2.0.shortcut.0.weight processed in: 0.011737823486328125 s\n",
      "C shape: 128, 4\n",
      "Layer layer2.1.conv1.weight processed in: 0.013861894607543945 s\n",
      "C shape: 128, 4\n",
      "Layer layer2.1.conv2.weight processed in: 0.014148950576782227 s\n",
      "C shape: 128, 4\n",
      "Layer layer2.2.conv1.weight processed in: 0.013923883438110352 s\n",
      "C shape: 128, 4\n",
      "Layer layer2.2.conv2.weight processed in: 0.01376485824584961 s\n",
      "C shape: 128, 4\n",
      "Layer layer2.3.conv1.weight processed in: 0.01464080810546875 s\n",
      "C shape: 128, 4\n",
      "Layer layer2.3.conv2.weight processed in: 0.015379905700683594 s\n",
      "C shape: 128, 4\n",
      "Layer layer3.0.conv1.weight processed in: 0.03179025650024414 s\n",
      "C shape: 256, 4\n",
      "Layer layer3.0.conv2.weight processed in: 0.031058788299560547 s\n",
      "C shape: 256, 4\n",
      "Layer layer3.0.shortcut.0.weight processed in: 0.023440122604370117 s\n",
      "C shape: 256, 4\n",
      "Layer layer3.1.conv1.weight processed in: 0.030811309814453125 s\n",
      "C shape: 256, 4\n",
      "Layer layer3.1.conv2.weight processed in: 0.03198814392089844 s\n",
      "C shape: 256, 4\n",
      "Layer layer3.2.conv1.weight processed in: 0.031527042388916016 s\n",
      "C shape: 256, 4\n",
      "Layer layer3.2.conv2.weight processed in: 0.03127288818359375 s\n",
      "C shape: 256, 4\n",
      "Layer layer3.3.conv1.weight processed in: 0.031768083572387695 s\n",
      "C shape: 256, 4\n",
      "Layer layer3.3.conv2.weight processed in: 0.031388044357299805 s\n",
      "C shape: 256, 4\n",
      "Layer layer3.4.conv1.weight processed in: 0.030903100967407227 s\n",
      "C shape: 256, 4\n",
      "Layer layer3.4.conv2.weight processed in: 0.031219959259033203 s\n",
      "C shape: 256, 4\n",
      "Layer layer3.5.conv1.weight processed in: 0.031520843505859375 s\n",
      "C shape: 256, 4\n",
      "Layer layer3.5.conv2.weight processed in: 0.03122687339782715 s\n",
      "C shape: 256, 4\n",
      "Layer layer3.6.conv1.weight processed in: 0.03175663948059082 s\n",
      "C shape: 256, 4\n",
      "Layer layer3.6.conv2.weight processed in: 0.032182931900024414 s\n",
      "C shape: 256, 4\n",
      "Layer layer3.7.conv1.weight processed in: 0.031697750091552734 s\n",
      "C shape: 256, 4\n",
      "Layer layer3.7.conv2.weight processed in: 0.03069329261779785 s\n",
      "C shape: 256, 4\n",
      "Layer layer3.8.conv1.weight processed in: 0.03067326545715332 s\n",
      "C shape: 256, 4\n",
      "Layer layer3.8.conv2.weight processed in: 0.03153085708618164 s\n",
      "C shape: 256, 4\n",
      "Layer layer3.9.conv1.weight processed in: 0.031126022338867188 s\n",
      "C shape: 256, 4\n",
      "Layer layer3.9.conv2.weight processed in: 0.03142905235290527 s\n",
      "C shape: 256, 4\n",
      "Layer layer3.10.conv1.weight processed in: 0.03173398971557617 s\n",
      "C shape: 256, 4\n",
      "Layer layer3.10.conv2.weight processed in: 0.03080892562866211 s\n",
      "C shape: 256, 4\n",
      "Layer layer3.11.conv1.weight processed in: 0.030611038208007812 s\n",
      "C shape: 256, 4\n",
      "Layer layer3.11.conv2.weight processed in: 0.03095412254333496 s\n",
      "C shape: 256, 4\n",
      "Layer layer3.12.conv1.weight processed in: 0.031248092651367188 s\n",
      "C shape: 256, 4\n",
      "Layer layer3.12.conv2.weight processed in: 0.030640840530395508 s\n",
      "C shape: 256, 4\n",
      "Layer layer3.13.conv1.weight processed in: 0.030624866485595703 s\n",
      "C shape: 256, 4\n",
      "Layer layer3.13.conv2.weight processed in: 0.031408071517944336 s\n",
      "C shape: 256, 4\n",
      "Layer layer3.14.conv1.weight processed in: 0.030742168426513672 s\n",
      "C shape: 256, 4\n",
      "Layer layer3.14.conv2.weight processed in: 0.03065800666809082 s\n",
      "C shape: 256, 4\n",
      "Layer layer3.15.conv1.weight processed in: 0.03055596351623535 s\n",
      "C shape: 256, 4\n",
      "Layer layer3.15.conv2.weight processed in: 0.030659198760986328 s\n",
      "C shape: 256, 4\n",
      "Layer layer3.16.conv1.weight processed in: 0.03067493438720703 s\n",
      "C shape: 256, 4\n",
      "Layer layer3.16.conv2.weight processed in: 0.03073716163635254 s\n",
      "C shape: 256, 4\n",
      "Layer layer3.17.conv1.weight processed in: 0.031169891357421875 s\n",
      "C shape: 256, 4\n",
      "Layer layer3.17.conv2.weight processed in: 0.03076004981994629 s\n",
      "C shape: 256, 4\n",
      "Layer layer3.18.conv1.weight processed in: 0.030689001083374023 s\n",
      "C shape: 256, 4\n",
      "Layer layer3.18.conv2.weight processed in: 0.03049182891845703 s\n",
      "C shape: 256, 4\n",
      "Layer layer3.19.conv1.weight processed in: 0.030520915985107422 s\n",
      "C shape: 256, 4\n",
      "Layer layer3.19.conv2.weight processed in: 0.030751943588256836 s\n",
      "C shape: 256, 4\n",
      "Layer layer3.20.conv1.weight processed in: 0.030569076538085938 s\n",
      "C shape: 256, 4\n",
      "Layer layer3.20.conv2.weight processed in: 0.03236198425292969 s\n",
      "C shape: 256, 4\n",
      "Layer layer3.21.conv1.weight processed in: 0.030776262283325195 s\n",
      "C shape: 256, 4\n",
      "Layer layer3.21.conv2.weight processed in: 0.030639171600341797 s\n",
      "C shape: 256, 4\n",
      "Layer layer3.22.conv1.weight processed in: 0.030683279037475586 s\n",
      "C shape: 256, 4\n",
      "Layer layer3.22.conv2.weight processed in: 0.030485153198242188 s\n",
      "C shape: 256, 4\n",
      "Layer layer4.0.conv1.weight processed in: 0.06107687950134277 s\n",
      "C shape: 512, 4\n",
      "Layer layer4.0.conv2.weight processed in: 0.07447695732116699 s\n",
      "C shape: 512, 4\n",
      "Layer layer4.0.shortcut.0.weight processed in: 0.046868085861206055 s\n",
      "C shape: 512, 4\n",
      "Layer layer4.1.conv1.weight processed in: 0.0735476016998291 s\n",
      "C shape: 512, 4\n",
      "Layer layer4.1.conv2.weight processed in: 0.07331705093383789 s\n",
      "C shape: 512, 4\n",
      "Layer layer4.2.conv1.weight processed in: 0.07440400123596191 s\n",
      "C shape: 512, 4\n",
      "Layer layer4.2.conv2.weight processed in: 0.07348799705505371 s\n",
      "C shape: 512, 4\n",
      "Num. layers: 70\n"
     ]
    }
   ],
   "source": [
    "current_time = time.time()\n",
    "num_layers = 0\n",
    "print(f'Start time: {current_time} s')\n",
    "for name, W in model.named_parameters():\n",
    "    if name in configs['partition']:\n",
    "        C = compute_cost_matrix(name, W, configs['partition'])\n",
    "        num_layers += 1\n",
    "        print(f'Layer {name} processed in: {time.time() - current_time} s')\n",
    "        print(f'C shape: {len(C)}, {len(C[0])}')\n",
    "        current_time = time.time()\n",
    "        \n",
    "print(f'Num. layers: {num_layers}') "
   ]
  },
  {
   "cell_type": "code",
   "execution_count": 26,
   "id": "8f2b724f-5fda-46e8-85be-d36d7510a69b",
   "metadata": {},
   "outputs": [
    {
     "data": {
      "text/plain": [
       "array([[384., 384., 384., 384.],\n",
       "       [384., 384., 384., 384.],\n",
       "       [384., 384., 384., 384.],\n",
       "       ...,\n",
       "       [384., 384., 384., 384.],\n",
       "       [384., 384., 384., 384.],\n",
       "       [384., 384., 384., 384.]])"
      ]
     },
     "execution_count": 26,
     "metadata": {},
     "output_type": "execute_result"
    }
   ],
   "source": [
    "C"
   ]
  },
  {
   "cell_type": "code",
   "execution_count": null,
   "id": "d004d410-b64c-4e2e-b0ce-6d60a12e1c6b",
   "metadata": {},
   "outputs": [],
   "source": [
    "def matrix_to_partition(P, original_partition, previous_partition):\n",
    "    \"\"\"\n",
    "    Translates an assignment matrix P (neurons by machines) back into a partition dictionary.\n",
    "\n",
    "    Args:\n",
    "        P (np.ndarray): A binary matrix of shape (num_neurons, num_partitions), where:\n",
    "                        - P[i, j] = 1 if output neuron `i` is executed on machine `j`, 0 otherwise.\n",
    "        original_partition (dict): The original partition dictionary, used to retrieve:\n",
    "                                   - maps: Communication cost between partitions\n",
    "        previous_partition (dict): The previous layer partition dictionary, used to retrieve:\n",
    "                                   - channel_id: Input channels per partition\n",
    "\n",
    "    Returns:\n",
    "        dict: A new partition dictionary reconstructed based on P.\n",
    "    \"\"\"\n",
    "    # Ensure P is a NumPy array\n",
    "    P = np.array(P)\n",
    "\n",
    "    # Validate input dimensions\n",
    "    num_neurons, num_partitions = P.shape\n",
    "    if 'num' not in original_partition or original_partition['num'] != num_partitions:\n",
    "        raise ValueError(\"Mismatch between P's number of partitions and the original partition dictionary.\")\n",
    "\n",
    "    # Reconstruct the partition dictionary\n",
    "    new_partition = {\n",
    "        'num': num_partitions,\n",
    "        'filter_id': [],  # Output neurons (filters) per partition\n",
    "        'channel_id': previous_partition['filter_id'],  # Retain original input channels\n",
    "        'maps': original_partition['maps'],  # Retain original communication cost map\n",
    "    }\n",
    "\n",
    "    # Populate filter_id for each partition\n",
    "    for j in range(num_partitions):\n",
    "        new_partition['filter_id'].append(np.where(P[:, j] == 1)[0])\n",
    "\n",
    "    return new_partition\n"
   ]
  },
  {
   "cell_type": "code",
   "execution_count": null,
   "id": "ba8f69b4",
   "metadata": {},
   "outputs": [],
   "source": [
    "P = np.array([\n",
    "    [1, 0, 0],  # Neuron 0 -> Partition 0\n",
    "    [1, 0, 0],  # Neuron 1 -> Partition 0\n",
    "    [0, 1, 0],  # Neuron 2 -> Partition 1\n",
    "    [0, 1, 0],  # Neuron 3 -> Partition 1\n",
    "    [0, 0, 1],  # Neuron 4 -> Partition 2\n",
    "    [0, 0, 1],  # Neuron 5 -> Partition 2\n",
    "])\n",
    "\n",
    "original_partition = {\n",
    "    'num': 3,\n",
    "    'filter_id': [np.array([0, 1]), np.array([2, 3]), np.array([4, 5])],\n",
    "    'channel_id': [np.array([0, 1]), np.array([2]), np.array([3])],\n",
    "    'maps': [[0, 1, 2], [1, 0, 1], [2, 1, 0]],\n",
    "}"
   ]
  },
  {
   "cell_type": "code",
   "execution_count": null,
   "id": "215e74ce",
   "metadata": {},
   "outputs": [],
   "source": [
    "new_partition = matrix_to_partition(P, original_partition)\n",
    "print(new_partition)"
   ]
  }
 ],
 "metadata": {
  "kernelspec": {
   "display_name": "Python 3 (ipykernel)",
   "language": "python",
   "name": "python3"
  },
  "language_info": {
   "codemirror_mode": {
    "name": "ipython",
    "version": 3
   },
   "file_extension": ".py",
   "mimetype": "text/x-python",
   "name": "python",
   "nbconvert_exporter": "python",
   "pygments_lexer": "ipython3",
   "version": "3.9.13"
  }
 },
 "nbformat": 4,
 "nbformat_minor": 5
}
